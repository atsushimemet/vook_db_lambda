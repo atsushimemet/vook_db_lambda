{
 "cells": [
  {
   "cell_type": "code",
   "execution_count": 47,
   "id": "8417d04c-2aad-4094-a799-28f75a1e6a33",
   "metadata": {},
   "outputs": [],
   "source": [
    "import sys\n",
    "\n",
    "sys.path.append(\"../\")\n",
    "import json\n",
    "from time import sleep\n",
    "\n",
    "import pandas as pd\n",
    "import requests\n",
    "\n",
    "from vook_db_v7.config import MAX_PAGE, REQ_URL, WANT_ITEMS_RAKUTEN, req_params"
   ]
  },
  {
   "cell_type": "code",
   "execution_count": null,
   "id": "fe48e40a-4d5f-40e1-86cb-8b1a425e7413",
   "metadata": {},
   "outputs": [],
   "source": [
    "band_list = [\n",
    "    \"ローリングストーンズ\",\n",
    "    \"ジミヘン\",\n",
    "    \"レッド ツェッペリン\",\n",
    "    \"デヴィッドボウイ\",\n",
    "    \"METALLICA\",\n",
    "    \"Guns N’ Roses\",\n",
    "    \"KISS\",\n",
    "    \"IRON MAIDEN\",\n",
    "    # https://jamtrading.jp/blogs/jam/1024509/\n",
    "    # 検索確認ようhttps://jp.mercari.com/search?keyword=t%E3%82%B7%E3%83%A3%E3%83%84%20%E3%82%A2%E3%82%A4%E3%82%A2%E3%83%B3%E3%83%A1%E3%82%A4%E3%83%87%E3%83%B3&order=desc&price_min=10000&sort=price&status=sold_out%7Ctrading\n",
    "]"
   ]
  },
  {
   "cell_type": "code",
   "execution_count": null,
   "id": "dde67dc7-965f-40b8-816b-c27a0fb6547b",
   "metadata": {},
   "outputs": [],
   "source": [
    "cnt = 1\n",
    "item = \"Tシャツ\"\n",
    "band_name = \"ローリングストーンズ\"\n",
    "keyword = \" \".join([item, category])\n",
    "print(f\"keyword:{keyword}\")\n",
    "\n",
    "MAX_PAGE = 100\n",
    "\n",
    "req_params[\"page\"] = cnt\n",
    "req_params[\"keyword\"] = keyword\n",
    "req_params[\"minPrice\"] = 10000\n",
    "\n",
    "df = pd.DataFrame(columns=WANT_ITEMS_RAKUTEN)\n",
    "\n",
    "while True:\n",
    "    req_params[\"page\"] = cnt\n",
    "    res = requests.get(REQ_URL, req_params)\n",
    "    res_code = res.status_code\n",
    "    res = json.loads(res.text)\n",
    "    if res_code != 200:\n",
    "        print(\n",
    "            f\"\"\"\n",
    "        ErrorCode -> {res_code}\\n\n",
    "        Error -> {res['error']}\\n\n",
    "        Page -> {cnt}\"\"\"\n",
    "        )\n",
    "    else:\n",
    "        if res[\"hits\"] == 0:\n",
    "            print(\"返ってきた商品数の数が0なので、ループ終了\")\n",
    "            break\n",
    "        tmp_df = pd.DataFrame(res[\"Items\"])[WANT_ITEMS_RAKUTEN]\n",
    "        df = pd.concat([df, tmp_df], ignore_index=True)\n",
    "    if cnt == MAX_PAGE:\n",
    "        print(\"MAX PAGEに到達したので、ループ終了\")\n",
    "        break\n",
    "    # logger.info(f\"{cnt} end!\")\n",
    "    cnt += 1\n",
    "    # リクエスト制限回避\n",
    "    sleep(1)\n",
    "    print(\"Finished!!\")\n",
    "\n",
    "df_main = df.rename(\n",
    "    columns={\"itemName\": \"name\", \"itemPrice\": \"price\", \"itemUrl\": \"url\"}\n",
    ")\n",
    "df_main[\"band_name\"] = band_name"
   ]
  }
 ],
 "metadata": {
  "kernelspec": {
   "display_name": "Python 3 (ipykernel)",
   "language": "python",
   "name": "python3"
  },
  "language_info": {
   "codemirror_mode": {
    "name": "ipython",
    "version": 3
   },
   "file_extension": ".py",
   "mimetype": "text/x-python",
   "name": "python",
   "nbconvert_exporter": "python",
   "pygments_lexer": "ipython3",
   "version": "3.9.16"
  }
 },
 "nbformat": 4,
 "nbformat_minor": 5
}
