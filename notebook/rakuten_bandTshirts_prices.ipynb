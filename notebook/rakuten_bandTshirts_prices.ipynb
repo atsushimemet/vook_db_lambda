{
 "cells": [
  {
   "cell_type": "markdown",
   "id": "4d96cbd4-e6db-450f-9b19-ba877360406d",
   "metadata": {},
   "source": [
    "[ref](https://jamtrading.jp/blogs/jam/1024509/)"
   ]
  },
  {
   "cell_type": "markdown",
   "id": "07f64f63-2c6a-4ee7-b0eb-70f2c867c9fe",
   "metadata": {},
   "source": [
    "# Import"
   ]
  },
  {
   "cell_type": "code",
   "execution_count": 1,
   "id": "8417d04c-2aad-4094-a799-28f75a1e6a33",
   "metadata": {},
   "outputs": [
    {
     "name": "stderr",
     "output_type": "stream",
     "text": [
      "\n",
      "Bad key ; font.family in file /Users/ozawaatsushi/.matplotlib/matplotlibrc, line 262 ('; font.family:  IPAexGothic')\n",
      "You probably need to get an updated matplotlibrc file from\n",
      "https://github.com/matplotlib/matplotlib/blob/v3.9.0/lib/matplotlib/mpl-data/matplotlibrc\n",
      "or from the matplotlib source distribution\n"
     ]
    },
    {
     "name": "stdout",
     "output_type": "stream",
     "text": [
      "Now: Local env\n"
     ]
    }
   ],
   "source": [
    "import sys\n",
    "\n",
    "sys.path.append(\"../\")\n",
    "import json\n",
    "import warnings\n",
    "from string import Template\n",
    "from time import sleep\n",
    "\n",
    "import matplotlib.pyplot as plt\n",
    "import pandas as pd\n",
    "import requests\n",
    "from tqdm import tqdm\n",
    "\n",
    "from vook_db_v7.config import MAX_PAGE, REQ_URL, WANT_ITEMS_RAKUTEN, req_params"
   ]
  },
  {
   "cell_type": "code",
   "execution_count": 2,
   "id": "2dc78892-14e8-4e0e-a77b-c5a400406264",
   "metadata": {},
   "outputs": [
    {
     "name": "stdout",
     "output_type": "stream",
     "text": [
      "/Users/ozawaatsushi/.matplotlib/matplotlibrc\n"
     ]
    }
   ],
   "source": [
    "import matplotlib\n",
    "\n",
    "print(matplotlib.matplotlib_fname())"
   ]
  },
  {
   "cell_type": "code",
   "execution_count": 3,
   "id": "fe48e40a-4d5f-40e1-86cb-8b1a425e7413",
   "metadata": {},
   "outputs": [],
   "source": [
    "band_list = [\n",
    "    \"ローリングストーンズ\",\n",
    "    \"ジミヘン\",\n",
    "    \"レッド ツェッペリン\",\n",
    "    \"デヴィッドボウイ\",\n",
    "    \"METALLICA\",\n",
    "    \"Guns N’ Roses\",\n",
    "    \"KISS\",\n",
    "    \"アイアンメイデン\",\n",
    "    \"スレイヤー\",\n",
    "    \"ランシド\",\n",
    "    \"セックスピストルズ\",\n",
    "    \"RAMONES\",\n",
    "    \"ミスフィッツ\",\n",
    "    \"the casualties\",\n",
    "    \"ニルヴァーナ\",\n",
    "    \"カートコバーン\",\n",
    "    \"The velvet underground\",\n",
    "    \"pearl jam\",\n",
    "    \"foo fighters\",\n",
    "    \"スリップノット\",\n",
    "    \"Korn\",\n",
    "    \"Rage Against the Machine\",\n",
    "    \"Linkin Park\",\n",
    "    \"Deftones\",\n",
    "    \"PINK FLOYD\",\n",
    "    \"JOURNEY\",\n",
    "]\n",
    "\n",
    "item = \"Tシャツ\"\n",
    "req_params[\"minPrice\"] = 10000\n",
    "MAX_PAGE = 100\n",
    "not_200_msg = Template(\"ErrorCode -> $res_code\\nError -> $res['error']\\nPage -> $cnt\")\n",
    "not_hit_msg = \"返ってきた商品数の数が0なので、ループ終了\"\n",
    "max_page_msg = \"MAX PAGEに到達したので、ループ終了\""
   ]
  },
  {
   "cell_type": "code",
   "execution_count": 4,
   "id": "e4d74565-5234-43c8-b34b-09f39f4a0a6a",
   "metadata": {},
   "outputs": [],
   "source": [
    "def loop_request(\n",
    "    req_params: dict,\n",
    "    cnt: int,\n",
    "    df: pd.DataFrame,\n",
    "    REQ_URL: str = REQ_URL,\n",
    "    not_200_msg: str = not_200_msg,\n",
    "    not_hit_msg: str = not_hit_msg,\n",
    "    max_page_msg: str = max_page_msg,\n",
    ") -> pd.DataFrame:\n",
    "    while True:\n",
    "        req_params[\"page\"] = cnt\n",
    "        res = requests.get(REQ_URL, req_params)\n",
    "        res_code = res.status_code\n",
    "        res = json.loads(res.text)\n",
    "        d_template = {\"res_code\": res_code, \"res\": res, \"cnt\": cnt}\n",
    "        if res_code != 200:\n",
    "            print(not_200_msg.safe_substitute(d_template))\n",
    "            break\n",
    "        else:\n",
    "            if res[\"hits\"] == 0:\n",
    "                print(not_hit_msg)\n",
    "                break\n",
    "            tmp_df = pd.DataFrame(res[\"Items\"])[WANT_ITEMS_RAKUTEN]\n",
    "            df = pd.concat([df, tmp_df], ignore_index=True)\n",
    "        if cnt == MAX_PAGE:\n",
    "            print(max_page_msg)\n",
    "            break\n",
    "        cnt += 1\n",
    "        # リクエスト制限回避\n",
    "        sleep(1)\n",
    "    return df"
   ]
  },
  {
   "cell_type": "code",
   "execution_count": 5,
   "id": "dde67dc7-965f-40b8-816b-c27a0fb6547b",
   "metadata": {
    "scrolled": true
   },
   "outputs": [
    {
     "name": "stderr",
     "output_type": "stream",
     "text": [
      "  0%|                                                                                          | 0/26 [00:00<?, ?it/s]"
     ]
    },
    {
     "name": "stdout",
     "output_type": "stream",
     "text": [
      "1:settings\n",
      "keyword:Tシャツ ローリングストーンズ\n",
      "2:loop request\n"
     ]
    },
    {
     "name": "stderr",
     "output_type": "stream",
     "text": [
      "  4%|███▏                                                                              | 1/26 [00:08<03:32,  8.49s/it]"
     ]
    },
    {
     "name": "stdout",
     "output_type": "stream",
     "text": [
      "返ってきた商品数の数が0なので、ループ終了\n",
      "3:postprocess\n",
      "1:settings\n",
      "keyword:Tシャツ ジミヘン\n",
      "2:loop request\n"
     ]
    },
    {
     "name": "stderr",
     "output_type": "stream",
     "text": [
      "  8%|██████▎                                                                           | 2/26 [00:09<01:40,  4.20s/it]"
     ]
    },
    {
     "name": "stdout",
     "output_type": "stream",
     "text": [
      "返ってきた商品数の数が0なので、ループ終了\n",
      "3:postprocess\n",
      "1:settings\n",
      "keyword:Tシャツ レッド ツェッペリン\n",
      "2:loop request\n"
     ]
    },
    {
     "name": "stderr",
     "output_type": "stream",
     "text": [
      " 12%|█████████▍                                                                        | 3/26 [00:10<01:05,  2.83s/it]"
     ]
    },
    {
     "name": "stdout",
     "output_type": "stream",
     "text": [
      "返ってきた商品数の数が0なので、ループ終了\n",
      "3:postprocess\n",
      "1:settings\n",
      "keyword:Tシャツ デヴィッドボウイ\n",
      "2:loop request\n"
     ]
    },
    {
     "name": "stderr",
     "output_type": "stream",
     "text": [
      " 15%|████████████▌                                                                     | 4/26 [00:12<00:47,  2.18s/it]"
     ]
    },
    {
     "name": "stdout",
     "output_type": "stream",
     "text": [
      "返ってきた商品数の数が0なので、ループ終了\n",
      "3:postprocess\n",
      "1:settings\n",
      "keyword:Tシャツ METALLICA\n",
      "2:loop request\n"
     ]
    },
    {
     "name": "stderr",
     "output_type": "stream",
     "text": [
      " 19%|███████████████▊                                                                  | 5/26 [00:16<01:03,  3.04s/it]"
     ]
    },
    {
     "name": "stdout",
     "output_type": "stream",
     "text": [
      "返ってきた商品数の数が0なので、ループ終了\n",
      "3:postprocess\n",
      "1:settings\n",
      "keyword:Tシャツ Guns N’ Roses\n",
      "2:loop request\n"
     ]
    },
    {
     "name": "stderr",
     "output_type": "stream",
     "text": [
      " 23%|██████████████████▉                                                               | 6/26 [00:18<00:55,  2.79s/it]"
     ]
    },
    {
     "name": "stdout",
     "output_type": "stream",
     "text": [
      "返ってきた商品数の数が0なので、ループ終了\n",
      "3:postprocess\n",
      "1:settings\n",
      "keyword:Tシャツ KISS\n",
      "2:loop request\n"
     ]
    },
    {
     "name": "stderr",
     "output_type": "stream",
     "text": [
      " 27%|██████████████████████                                                            | 7/26 [00:27<01:27,  4.61s/it]"
     ]
    },
    {
     "name": "stdout",
     "output_type": "stream",
     "text": [
      "返ってきた商品数の数が0なので、ループ終了\n",
      "3:postprocess\n",
      "1:settings\n",
      "keyword:Tシャツ アイアンメイデン\n",
      "2:loop request\n"
     ]
    },
    {
     "name": "stderr",
     "output_type": "stream",
     "text": [
      " 31%|█████████████████████████▏                                                        | 8/26 [00:29<01:09,  3.89s/it]"
     ]
    },
    {
     "name": "stdout",
     "output_type": "stream",
     "text": [
      "返ってきた商品数の数が0なので、ループ終了\n",
      "3:postprocess\n",
      "1:settings\n",
      "keyword:Tシャツ スレイヤー\n",
      "2:loop request\n"
     ]
    },
    {
     "name": "stderr",
     "output_type": "stream",
     "text": [
      " 35%|████████████████████████████▍                                                     | 9/26 [00:42<01:52,  6.61s/it]"
     ]
    },
    {
     "name": "stdout",
     "output_type": "stream",
     "text": [
      "返ってきた商品数の数が0なので、ループ終了\n",
      "3:postprocess\n",
      "1:settings\n",
      "keyword:Tシャツ ランシド\n",
      "2:loop request\n"
     ]
    },
    {
     "name": "stderr",
     "output_type": "stream",
     "text": [
      " 38%|███████████████████████████████▏                                                 | 10/26 [00:43<01:18,  4.93s/it]"
     ]
    },
    {
     "name": "stdout",
     "output_type": "stream",
     "text": [
      "返ってきた商品数の数が0なので、ループ終了\n",
      "3:postprocess\n",
      "1:settings\n",
      "keyword:Tシャツ セックスピストルズ\n",
      "2:loop request\n"
     ]
    },
    {
     "name": "stderr",
     "output_type": "stream",
     "text": [
      " 42%|██████████████████████████████████▎                                              | 11/26 [00:44<00:57,  3.85s/it]"
     ]
    },
    {
     "name": "stdout",
     "output_type": "stream",
     "text": [
      "返ってきた商品数の数が0なので、ループ終了\n",
      "3:postprocess\n",
      "1:settings\n",
      "keyword:Tシャツ RAMONES\n",
      "2:loop request\n"
     ]
    },
    {
     "name": "stderr",
     "output_type": "stream",
     "text": [
      " 46%|█████████████████████████████████████▍                                           | 12/26 [00:46<00:42,  3.05s/it]"
     ]
    },
    {
     "name": "stdout",
     "output_type": "stream",
     "text": [
      "返ってきた商品数の数が0なので、ループ終了\n",
      "3:postprocess\n",
      "1:settings\n",
      "keyword:Tシャツ ミスフィッツ\n",
      "2:loop request\n"
     ]
    },
    {
     "name": "stderr",
     "output_type": "stream",
     "text": [
      " 50%|████████████████████████████████████████▌                                        | 13/26 [00:47<00:32,  2.49s/it]"
     ]
    },
    {
     "name": "stdout",
     "output_type": "stream",
     "text": [
      "返ってきた商品数の数が0なので、ループ終了\n",
      "3:postprocess\n",
      "1:settings\n",
      "keyword:Tシャツ the casualties\n",
      "2:loop request\n",
      "返ってきた商品数の数が0なので、ループ終了\n",
      "3:postprocess\n",
      "1:settings\n",
      "keyword:Tシャツ ニルヴァーナ\n",
      "2:loop request\n"
     ]
    },
    {
     "name": "stderr",
     "output_type": "stream",
     "text": [
      " 58%|██████████████████████████████████████████████▋                                  | 15/26 [00:52<00:26,  2.45s/it]"
     ]
    },
    {
     "name": "stdout",
     "output_type": "stream",
     "text": [
      "返ってきた商品数の数が0なので、ループ終了\n",
      "3:postprocess\n",
      "1:settings\n",
      "keyword:Tシャツ カートコバーン\n",
      "2:loop request\n"
     ]
    },
    {
     "name": "stderr",
     "output_type": "stream",
     "text": [
      " 62%|█████████████████████████████████████████████████▊                               | 16/26 [00:56<00:29,  2.97s/it]"
     ]
    },
    {
     "name": "stdout",
     "output_type": "stream",
     "text": [
      "返ってきた商品数の数が0なので、ループ終了\n",
      "3:postprocess\n",
      "1:settings\n",
      "keyword:Tシャツ The velvet underground\n",
      "2:loop request\n"
     ]
    },
    {
     "name": "stderr",
     "output_type": "stream",
     "text": [
      " 65%|████████████████████████████████████████████████████▉                            | 17/26 [00:57<00:22,  2.51s/it]"
     ]
    },
    {
     "name": "stdout",
     "output_type": "stream",
     "text": [
      "返ってきた商品数の数が0なので、ループ終了\n",
      "3:postprocess\n",
      "1:settings\n",
      "keyword:Tシャツ pearl jam\n",
      "2:loop request\n"
     ]
    },
    {
     "name": "stderr",
     "output_type": "stream",
     "text": [
      " 69%|████████████████████████████████████████████████████████                         | 18/26 [00:58<00:17,  2.15s/it]"
     ]
    },
    {
     "name": "stdout",
     "output_type": "stream",
     "text": [
      "返ってきた商品数の数が0なので、ループ終了\n",
      "3:postprocess\n",
      "1:settings\n",
      "keyword:Tシャツ foo fighters\n",
      "2:loop request\n"
     ]
    },
    {
     "name": "stderr",
     "output_type": "stream",
     "text": [
      " 73%|███████████████████████████████████████████████████████████▏                     | 19/26 [01:00<00:13,  1.89s/it]"
     ]
    },
    {
     "name": "stdout",
     "output_type": "stream",
     "text": [
      "返ってきた商品数の数が0なので、ループ終了\n",
      "3:postprocess\n",
      "1:settings\n",
      "keyword:Tシャツ スリップノット\n",
      "2:loop request\n"
     ]
    },
    {
     "name": "stderr",
     "output_type": "stream",
     "text": [
      " 77%|██████████████████████████████████████████████████████████████▎                  | 20/26 [01:02<00:12,  2.02s/it]"
     ]
    },
    {
     "name": "stdout",
     "output_type": "stream",
     "text": [
      "返ってきた商品数の数が0なので、ループ終了\n",
      "3:postprocess\n",
      "1:settings\n",
      "keyword:Tシャツ Korn\n",
      "2:loop request\n"
     ]
    },
    {
     "name": "stderr",
     "output_type": "stream",
     "text": [
      " 81%|█████████████████████████████████████████████████████████████████▍               | 21/26 [01:04<00:10,  2.09s/it]"
     ]
    },
    {
     "name": "stdout",
     "output_type": "stream",
     "text": [
      "返ってきた商品数の数が0なので、ループ終了\n",
      "3:postprocess\n",
      "1:settings\n",
      "keyword:Tシャツ Rage Against the Machine\n",
      "2:loop request\n"
     ]
    },
    {
     "name": "stderr",
     "output_type": "stream",
     "text": [
      " 85%|████████████████████████████████████████████████████████████████████▌            | 22/26 [01:05<00:07,  1.83s/it]"
     ]
    },
    {
     "name": "stdout",
     "output_type": "stream",
     "text": [
      "返ってきた商品数の数が0なので、ループ終了\n",
      "3:postprocess\n",
      "1:settings\n",
      "keyword:Tシャツ Linkin Park\n",
      "2:loop request\n"
     ]
    },
    {
     "name": "stderr",
     "output_type": "stream",
     "text": [
      " 88%|███████████████████████████████████████████████████████████████████████▋         | 23/26 [01:07<00:04,  1.64s/it]"
     ]
    },
    {
     "name": "stdout",
     "output_type": "stream",
     "text": [
      "返ってきた商品数の数が0なので、ループ終了\n",
      "3:postprocess\n",
      "1:settings\n",
      "keyword:Tシャツ Deftones\n",
      "2:loop request\n"
     ]
    },
    {
     "name": "stderr",
     "output_type": "stream",
     "text": [
      " 92%|██████████████████████████████████████████████████████████████████████████▊      | 24/26 [01:08<00:03,  1.50s/it]"
     ]
    },
    {
     "name": "stdout",
     "output_type": "stream",
     "text": [
      "返ってきた商品数の数が0なので、ループ終了\n",
      "3:postprocess\n",
      "1:settings\n",
      "keyword:Tシャツ PINK FLOYD\n",
      "2:loop request\n"
     ]
    },
    {
     "name": "stderr",
     "output_type": "stream",
     "text": [
      " 96%|█████████████████████████████████████████████████████████████████████████████▉   | 25/26 [01:12<00:02,  2.41s/it]"
     ]
    },
    {
     "name": "stdout",
     "output_type": "stream",
     "text": [
      "返ってきた商品数の数が0なので、ループ終了\n",
      "3:postprocess\n",
      "1:settings\n",
      "keyword:Tシャツ JOURNEY\n",
      "2:loop request\n"
     ]
    },
    {
     "name": "stderr",
     "output_type": "stream",
     "text": [
      "100%|█████████████████████████████████████████████████████████████████████████████████| 26/26 [01:15<00:00,  2.89s/it]"
     ]
    },
    {
     "name": "stdout",
     "output_type": "stream",
     "text": [
      "返ってきた商品数の数が0なので、ループ終了\n",
      "3:postprocess\n"
     ]
    },
    {
     "name": "stderr",
     "output_type": "stream",
     "text": [
      "\n"
     ]
    }
   ],
   "source": [
    "l_df_main = []\n",
    "for band_name in tqdm(band_list):\n",
    "    print(\"1:settings\")\n",
    "    cnt = 1\n",
    "    keyword = \" \".join([item, band_name])\n",
    "    req_params[\"page\"] = cnt\n",
    "    req_params[\"keyword\"] = keyword\n",
    "    print(f\"keyword:{keyword}\")\n",
    "    print(\"2:loop request\")\n",
    "    df = pd.DataFrame(columns=WANT_ITEMS_RAKUTEN)\n",
    "    df = loop_request(req_params, cnt, df)\n",
    "    print(\"3:postprocess\")\n",
    "    df_main = df.rename(\n",
    "        columns={\"itemName\": \"name\", \"itemPrice\": \"price\", \"itemUrl\": \"url\"}\n",
    "    )\n",
    "    df_main[\"band_name\"] = band_name\n",
    "    l_df_main.append(df_main)\n",
    "df_main_all = pd.concat(l_df_main, ignore_index=True)"
   ]
  },
  {
   "cell_type": "code",
   "execution_count": 21,
   "id": "1b050bdd-9565-4f0e-954b-b5ad0c682149",
   "metadata": {},
   "outputs": [
    {
     "name": "stdout",
     "output_type": "stream",
     "text": [
      "shape: (1489, 4)\n"
     ]
    }
   ],
   "source": [
    "print(\"shape:\", df_main_all.shape)"
   ]
  },
  {
   "cell_type": "code",
   "execution_count": 22,
   "id": "f62b8e01-c4d9-4a2c-a310-a7cfee31d97a",
   "metadata": {},
   "outputs": [
    {
     "name": "stdout",
     "output_type": "stream",
     "text": [
      "バンド別商品数: band_name\n",
      "スレイヤー                       230\n",
      "KISS                        182\n",
      "ローリングストーンズ                  176\n",
      "METALLICA                   106\n",
      "PINK FLOYD                  102\n",
      "カートコバーン                      98\n",
      "ニルヴァーナ                       96\n",
      "JOURNEY                      37\n",
      "スリップノット                      37\n",
      "Guns N’ Roses                36\n",
      "アイアンメイデン                     35\n",
      "ミスフィッツ                       30\n",
      "pearl jam                    29\n",
      "Korn                         27\n",
      "レッド ツェッペリン                   26\n",
      "RAMONES                      20\n",
      "デヴィッドボウイ                     19\n",
      "Rage Against the Machine     18\n",
      "ジミヘン                         15\n",
      "セックスピストルズ                    13\n",
      "Linkin Park                   3\n",
      "foo fighters                  2\n",
      "The velvet underground        2\n",
      "ランシド                          1\n",
      "Deftones                      1\n",
      "Name: name, dtype: int64\n"
     ]
    }
   ],
   "source": [
    "s = df_main_all.groupby(\"band_name\").nunique()[\"name\"]\n",
    "print(\n",
    "    \"バンド別商品数:\",\n",
    "    s.sort_values(ascending=False),\n",
    ")"
   ]
  },
  {
   "cell_type": "code",
   "execution_count": 24,
   "id": "5d6132cf-3c09-4eb7-9632-279c5411101c",
   "metadata": {},
   "outputs": [
    {
     "name": "stdout",
     "output_type": "stream",
     "text": [
      "十分なサンプルサイズを持つバンド名 ['Guns N’ Roses', 'JOURNEY', 'KISS', 'METALLICA', 'PINK FLOYD', 'アイアンメイデン', 'カートコバーン', 'スリップノット', 'スレイヤー', 'ニルヴァーナ', 'ローリングストーンズ']\n"
     ]
    }
   ],
   "source": [
    "df_product_num_per_band_name = s.reset_index()\n",
    "sample_size = 30\n",
    "band_list_over_sample_size = df_product_num_per_band_name[\n",
    "    df_product_num_per_band_name[\"name\"] > sample_size\n",
    "][\"band_name\"].tolist()\n",
    "print(\"十分なサンプルサイズを持つバンド名\", band_list_over_sample_size)"
   ]
  },
  {
   "cell_type": "code",
   "execution_count": 26,
   "id": "e14d9533-3d16-441b-9621-a9c499020b25",
   "metadata": {
    "scrolled": true
   },
   "outputs": [
    {
     "data": {
      "text/html": [
       "<div>\n",
       "<style scoped>\n",
       "    .dataframe tbody tr th:only-of-type {\n",
       "        vertical-align: middle;\n",
       "    }\n",
       "\n",
       "    .dataframe tbody tr th {\n",
       "        vertical-align: top;\n",
       "    }\n",
       "\n",
       "    .dataframe thead th {\n",
       "        text-align: right;\n",
       "    }\n",
       "</style>\n",
       "<table border=\"1\" class=\"dataframe\">\n",
       "  <thead>\n",
       "    <tr style=\"text-align: right;\">\n",
       "      <th></th>\n",
       "      <th>name</th>\n",
       "      <th>price</th>\n",
       "      <th>url</th>\n",
       "      <th>band_name</th>\n",
       "    </tr>\n",
       "  </thead>\n",
       "  <tbody>\n",
       "    <tr>\n",
       "      <th>0</th>\n",
       "      <td>90's ROLLING STONES USA製 \"3 Ball Charlie\" ロックバ...</td>\n",
       "      <td>107800</td>\n",
       "      <td>https://hb.afl.rakuten.co.jp/hgc/g00taeee.brn1...</td>\n",
       "      <td>ローリングストーンズ</td>\n",
       "    </tr>\n",
       "    <tr>\n",
       "      <th>1</th>\n",
       "      <td>【中古】70's　The Rolling Stones/ローリング・ストーンズ　\"Tour ...</td>\n",
       "      <td>87780</td>\n",
       "      <td>https://hb.afl.rakuten.co.jp/hgc/g00tzn6e.brn1...</td>\n",
       "      <td>ローリングストーンズ</td>\n",
       "    </tr>\n",
       "    <tr>\n",
       "      <th>2</th>\n",
       "      <td>DEADSTOCK 90s USA製 ヴィンテージ ローリングストーンズ The Rolli...</td>\n",
       "      <td>84800</td>\n",
       "      <td>https://hb.afl.rakuten.co.jp/hgc/g00rgike.brn1...</td>\n",
       "      <td>ローリングストーンズ</td>\n",
       "    </tr>\n",
       "    <tr>\n",
       "      <th>3</th>\n",
       "      <td>DEADSTOCK 90s USA製 ヴィンテージ ローリングストーンズ The Rolli...</td>\n",
       "      <td>84800</td>\n",
       "      <td>https://hb.afl.rakuten.co.jp/hgc/g00rgike.brn1...</td>\n",
       "      <td>ローリングストーンズ</td>\n",
       "    </tr>\n",
       "    <tr>\n",
       "      <th>4</th>\n",
       "      <td>COMMEdesGARCONS コムデギャルソン xVersaceヴェルサーチェ【21年製】...</td>\n",
       "      <td>83600</td>\n",
       "      <td>https://hb.afl.rakuten.co.jp/hgc/g00s68be.brn1...</td>\n",
       "      <td>ローリングストーンズ</td>\n",
       "    </tr>\n",
       "    <tr>\n",
       "      <th>...</th>\n",
       "      <td>...</td>\n",
       "      <td>...</td>\n",
       "      <td>...</td>\n",
       "      <td>...</td>\n",
       "    </tr>\n",
       "    <tr>\n",
       "      <th>1271</th>\n",
       "      <td>(取寄) アイベックス ジャーニー T-シャツ - メリノ ウール, ショート スリーブ I...</td>\n",
       "      <td>10390</td>\n",
       "      <td>https://hb.afl.rakuten.co.jp/hgc/g00qwfoe.brn1...</td>\n",
       "      <td>JOURNEY</td>\n",
       "    </tr>\n",
       "    <tr>\n",
       "      <th>1272</th>\n",
       "      <td>(取寄) アイベックス ジャーニー シャツ - メリノ ウール, ショート スリーブ Ibe...</td>\n",
       "      <td>10390</td>\n",
       "      <td>https://hb.afl.rakuten.co.jp/hgc/g00rhtxe.brn1...</td>\n",
       "      <td>JOURNEY</td>\n",
       "    </tr>\n",
       "    <tr>\n",
       "      <th>1273</th>\n",
       "      <td>(取寄) アイベックス ジャーニー T-シャツ - メリノ ウール, ショート スリーブ I...</td>\n",
       "      <td>10390</td>\n",
       "      <td>https://hb.afl.rakuten.co.jp/hgc/g00rhtxe.brn1...</td>\n",
       "      <td>JOURNEY</td>\n",
       "    </tr>\n",
       "    <tr>\n",
       "      <th>1274</th>\n",
       "      <td>(取寄) アイベックス ジャーニー シャツ - メリノ ウール, ショート スリーブ Ibe...</td>\n",
       "      <td>10390</td>\n",
       "      <td>https://hb.afl.rakuten.co.jp/hgc/g00qwfoe.brn1...</td>\n",
       "      <td>JOURNEY</td>\n",
       "    </tr>\n",
       "    <tr>\n",
       "      <th>1275</th>\n",
       "      <td>(取寄) アイベックス ジャーニー ベース レイヤー トップ - メリノ ウール, ロング ...</td>\n",
       "      <td>10390</td>\n",
       "      <td>https://hb.afl.rakuten.co.jp/hgc/g00rhtxe.brn1...</td>\n",
       "      <td>JOURNEY</td>\n",
       "    </tr>\n",
       "  </tbody>\n",
       "</table>\n",
       "<p>1276 rows × 4 columns</p>\n",
       "</div>"
      ],
      "text/plain": [
       "                                                   name   price  \\\n",
       "0     90's ROLLING STONES USA製 \"3 Ball Charlie\" ロックバ...  107800   \n",
       "1     【中古】70's　The Rolling Stones/ローリング・ストーンズ　\"Tour ...   87780   \n",
       "2     DEADSTOCK 90s USA製 ヴィンテージ ローリングストーンズ The Rolli...   84800   \n",
       "3     DEADSTOCK 90s USA製 ヴィンテージ ローリングストーンズ The Rolli...   84800   \n",
       "4     COMMEdesGARCONS コムデギャルソン xVersaceヴェルサーチェ【21年製】...   83600   \n",
       "...                                                 ...     ...   \n",
       "1271  (取寄) アイベックス ジャーニー T-シャツ - メリノ ウール, ショート スリーブ I...   10390   \n",
       "1272  (取寄) アイベックス ジャーニー シャツ - メリノ ウール, ショート スリーブ Ibe...   10390   \n",
       "1273  (取寄) アイベックス ジャーニー T-シャツ - メリノ ウール, ショート スリーブ I...   10390   \n",
       "1274  (取寄) アイベックス ジャーニー シャツ - メリノ ウール, ショート スリーブ Ibe...   10390   \n",
       "1275  (取寄) アイベックス ジャーニー ベース レイヤー トップ - メリノ ウール, ロング ...   10390   \n",
       "\n",
       "                                                    url   band_name  \n",
       "0     https://hb.afl.rakuten.co.jp/hgc/g00taeee.brn1...  ローリングストーンズ  \n",
       "1     https://hb.afl.rakuten.co.jp/hgc/g00tzn6e.brn1...  ローリングストーンズ  \n",
       "2     https://hb.afl.rakuten.co.jp/hgc/g00rgike.brn1...  ローリングストーンズ  \n",
       "3     https://hb.afl.rakuten.co.jp/hgc/g00rgike.brn1...  ローリングストーンズ  \n",
       "4     https://hb.afl.rakuten.co.jp/hgc/g00s68be.brn1...  ローリングストーンズ  \n",
       "...                                                 ...         ...  \n",
       "1271  https://hb.afl.rakuten.co.jp/hgc/g00qwfoe.brn1...     JOURNEY  \n",
       "1272  https://hb.afl.rakuten.co.jp/hgc/g00rhtxe.brn1...     JOURNEY  \n",
       "1273  https://hb.afl.rakuten.co.jp/hgc/g00rhtxe.brn1...     JOURNEY  \n",
       "1274  https://hb.afl.rakuten.co.jp/hgc/g00qwfoe.brn1...     JOURNEY  \n",
       "1275  https://hb.afl.rakuten.co.jp/hgc/g00rhtxe.brn1...     JOURNEY  \n",
       "\n",
       "[1276 rows x 4 columns]"
      ]
     },
     "execution_count": 26,
     "metadata": {},
     "output_type": "execute_result"
    }
   ],
   "source": [
    "df_main_filtered = df_main_all[\n",
    "    df_main_all[\"band_name\"].isin(band_list_over_sample_size)\n",
    "].reset_index(drop=True)\n",
    "df_main_filtered"
   ]
  },
  {
   "cell_type": "code",
   "execution_count": 30,
   "id": "0a925a0c-caf7-4682-9c50-715447d51429",
   "metadata": {},
   "outputs": [
    {
     "name": "stdout",
     "output_type": "stream",
     "text": [
      "バンド別商品数: band_name\n",
      "ニルヴァーナ                      34750.0\n",
      "pearl jam                   34000.0\n",
      "Rage Against the Machine    33687.5\n",
      "The velvet underground      28985.0\n",
      "foo fighters                26180.0\n",
      "METALLICA                   22500.0\n",
      "カートコバーン                     21725.0\n",
      "Guns N’ Roses               21175.0\n",
      "Korn                        19690.0\n",
      "ジミヘン                        19690.0\n",
      "ランシド                        17380.0\n",
      "アイアンメイデン                    17090.0\n",
      "セックスピストルズ                   17050.0\n",
      "ローリングストーンズ                  16335.0\n",
      "PINK FLOYD                  16200.0\n",
      "Linkin Park                 16200.0\n",
      "KISS                        16200.0\n",
      "デヴィッドボウイ                    14850.0\n",
      "レッド ツェッペリン                  14600.0\n",
      "スレイヤー                       13970.0\n",
      "スリップノット                     13563.0\n",
      "ミスフィッツ                      13090.0\n",
      "RAMONES                     12107.5\n",
      "JOURNEY                     11958.0\n",
      "Deftones                    10620.0\n",
      "Name: price, dtype: object\n"
     ]
    }
   ],
   "source": [
    "df_main_filtered.groupby(\"band_name\")[\"price\"].median()\n",
    "print(\n",
    "    \"バンド別商品数:\",\n",
    "    s.sort_values(ascending=False),\n",
    ")"
   ]
  },
  {
   "cell_type": "code",
   "execution_count": 30,
   "id": "e45fd5a3-f777-40f8-9b6f-a110b1d65436",
   "metadata": {},
   "outputs": [
    {
     "name": "stdout",
     "output_type": "stream",
     "text": [
      "バンド別商品数: band_name\n",
      "ニルヴァーナ                      34750.0\n",
      "pearl jam                   34000.0\n",
      "Rage Against the Machine    33687.5\n",
      "The velvet underground      28985.0\n",
      "foo fighters                26180.0\n",
      "METALLICA                   22500.0\n",
      "カートコバーン                     21725.0\n",
      "Guns N’ Roses               21175.0\n",
      "Korn                        19690.0\n",
      "ジミヘン                        19690.0\n",
      "ランシド                        17380.0\n",
      "アイアンメイデン                    17090.0\n",
      "セックスピストルズ                   17050.0\n",
      "ローリングストーンズ                  16335.0\n",
      "PINK FLOYD                  16200.0\n",
      "Linkin Park                 16200.0\n",
      "KISS                        16200.0\n",
      "デヴィッドボウイ                    14850.0\n",
      "レッド ツェッペリン                  14600.0\n",
      "スレイヤー                       13970.0\n",
      "スリップノット                     13563.0\n",
      "ミスフィッツ                      13090.0\n",
      "RAMONES                     12107.5\n",
      "JOURNEY                     11958.0\n",
      "Deftones                    10620.0\n",
      "Name: price, dtype: object\n"
     ]
    }
   ],
   "source": [
    "df_main_filtered.groupby(\"band_name\")[\"price\"].median()\n",
    "print(\n",
    "    \"バンド別商品数:\",\n",
    "    s.sort_values(ascending=False),\n",
    ")"
   ]
  },
  {
   "cell_type": "code",
   "execution_count": 27,
   "id": "185e6048-03e3-4609-ae03-beab3f805204",
   "metadata": {},
   "outputs": [
    {
     "name": "stdout",
     "output_type": "stream",
     "text": [
      "ローリングストーンズ：商品数：176\n"
     ]
    },
    {
     "data": {
      "image/png": "[encoded data removed]",
      "text/plain": [
       "<Figure size 1000x600 with 1 Axes>"
      ]
     },
     "metadata": {},
     "output_type": "display_data"
    },
    {
     "name": "stdout",
     "output_type": "stream",
     "text": [
      "METALLICA：商品数：106\n"
     ]
    },
    {
     "data": {
      "image/png": "[encoded data removed]",
      "text/plain": [
       "<Figure size 1000x600 with 1 Axes>"
      ]
     },
     "metadata": {},
     "output_type": "display_data"
    },
    {
     "name": "stdout",
     "output_type": "stream",
     "text": [
      "Guns N’ Roses：商品数：36\n"
     ]
    },
    {
     "data": {
      "image/png": "[encoded data removed]",
      "text/plain": [
       "<Figure size 1000x600 with 1 Axes>"
      ]
     },
     "metadata": {},
     "output_type": "display_data"
    },
    {
     "name": "stdout",
     "output_type": "stream",
     "text": [
      "KISS：商品数：182\n"
     ]
    },
    {
     "data": {
      "image/png": "[encoded data removed]",
      "text/plain": [
       "<Figure size 1000x600 with 1 Axes>"
      ]
     },
     "metadata": {},
     "output_type": "display_data"
    },
    {
     "name": "stdout",
     "output_type": "stream",
     "text": [
      "アイアンメイデン：商品数：35\n"
     ]
    },
    {
     "data": {
      "image/png": "[encoded data removed]",
      "text/plain": [
       "<Figure size 1000x600 with 1 Axes>"
      ]
     },
     "metadata": {},
     "output_type": "display_data"
    },
    {
     "name": "stdout",
     "output_type": "stream",
     "text": [
      "スレイヤー：商品数：230\n"
     ]
    },
    {
     "data": {
      "image/png": "[encoded data removed]",
      "text/plain": [
       "<Figure size 1000x600 with 1 Axes>"
      ]
     },
     "metadata": {},
     "output_type": "display_data"
    },
    {
     "name": "stdout",
     "output_type": "stream",
     "text": [
      "ニルヴァーナ：商品数：96\n"
     ]
    },
    {
     "data": {
      "image/png": "[encoded data removed]",
      "text/plain": [
       "<Figure size 1000x600 with 1 Axes>"
      ]
     },
     "metadata": {},
     "output_type": "display_data"
    },
    {
     "name": "stdout",
     "output_type": "stream",
     "text": [
      "カートコバーン：商品数：98\n"
     ]
    },
    {
     "data": {
      "image/png": "[encoded data removed]",
      "text/plain": [
       "<Figure size 1000x600 with 1 Axes>"
      ]
     },
     "metadata": {},
     "output_type": "display_data"
    },
    {
     "name": "stdout",
     "output_type": "stream",
     "text": [
      "スリップノット：商品数：37\n"
     ]
    },
    {
     "data": {
      "image/png": "[encoded data removed]",
      "text/plain": [
       "<Figure size 1000x600 with 1 Axes>"
      ]
     },
     "metadata": {},
     "output_type": "display_data"
    },
    {
     "name": "stdout",
     "output_type": "stream",
     "text": [
      "PINK FLOYD：商品数：102\n"
     ]
    },
    {
     "data": {
      "image/png": "[encoded data removed]",
      "text/plain": [
       "<Figure size 1000x600 with 1 Axes>"
      ]
     },
     "metadata": {},
     "output_type": "display_data"
    },
    {
     "name": "stdout",
     "output_type": "stream",
     "text": [
      "JOURNEY：商品数：37\n"
     ]
    },
    {
     "data": {
      "image/png": "[encoded data removed]",
      "text/plain": [
       "<Figure size 1000x600 with 1 Axes>"
      ]
     },
     "metadata": {},
     "output_type": "display_data"
    }
   ],
   "source": [
    "# バンドごとに価格帯の分布をプロット\n",
    "bands = df_main_filtered[\"band_name\"].unique()\n",
    "with warnings.catch_warnings():\n",
    "    warnings.simplefilter(\"ignore\", UserWarning)\n",
    "    for band in bands:\n",
    "        print(\n",
    "            f\"{band}：商品数：{df_main_filtered[df_main_filtered['band_name'] == band]['name'].nunique()}\"\n",
    "        )\n",
    "        band_data = df_main_filtered[df_main_filtered[\"band_name\"] == band]\n",
    "        plt.figure(figsize=(10, 6))\n",
    "        plt.hist(band_data[\"price\"], bins=20, edgecolor=\"black\")\n",
    "        plt.grid(True)\n",
    "        plt.show()"
   ]
  },
  {
   "cell_type": "code",
   "execution_count": 14,
   "id": "aefab7f9-3e0a-46ec-b52a-8252b936211a",
   "metadata": {},
   "outputs": [
    {
     "name": "stdout",
     "output_type": "stream",
     "text": [
      "バンド別平均価格: band_name\n",
      "ニルヴァーナ           83588.735294\n",
      "Guns N’ Roses    43555.710526\n",
      "METALLICA          35271.4375\n",
      "カートコバーン          33271.921569\n",
      "PINK FLOYD       25071.485981\n",
      "KISS             21377.889447\n",
      "アイアンメイデン         21013.657895\n",
      "ローリングストーンズ       20654.189474\n",
      "Korn             18829.677419\n",
      "スレイヤー             18077.83871\n",
      "スリップノット          16818.684211\n",
      "JOURNEY             15992.575\n",
      "Name: price, dtype: object\n"
     ]
    }
   ],
   "source": [
    "print(\n",
    "    \"バンド別平均価格:\",\n",
    "    df_main_filtered.groupby(\"band_name\")[\"price\"].mean().sort_values(ascending=False),\n",
    ")"
   ]
  },
  {
   "cell_type": "code",
   "execution_count": 15,
   "id": "dff9bbcb-1b87-4c75-9b6f-5c0267509379",
   "metadata": {},
   "outputs": [
    {
     "name": "stdout",
     "output_type": "stream",
     "text": [
      "バンド別平均価格: band_name\n",
      "ニルヴァーナ           34750.0\n",
      "METALLICA        22500.0\n",
      "カートコバーン          21725.0\n",
      "Guns N’ Roses    21175.0\n",
      "Korn             19690.0\n",
      "アイアンメイデン         17090.0\n",
      "ローリングストーンズ       16335.0\n",
      "KISS             16200.0\n",
      "PINK FLOYD       16200.0\n",
      "スレイヤー            13970.0\n",
      "スリップノット          13563.0\n",
      "JOURNEY          11958.0\n",
      "Name: price, dtype: object\n"
     ]
    }
   ],
   "source": [
    "print(\n",
    "    \"バンド別平均価格:\",\n",
    "    df_main_filtered.groupby(\"band_name\")[\"price\"]\n",
    "    .median()\n",
    "    .sort_values(ascending=False),\n",
    ")"
   ]
  }
 ],
 "metadata": {
  "kernelspec": {
   "display_name": "Python 3 (ipykernel)",
   "language": "python",
   "name": "python3"
  },
  "language_info": {
   "codemirror_mode": {
    "name": "ipython",
    "version": 3
   },
   "file_extension": ".py",
   "mimetype": "text/x-python",
   "name": "python",
   "nbconvert_exporter": "python",
   "pygments_lexer": "ipython3",
   "version": "3.9.16"
  }
 },
 "nbformat": 4,
 "nbformat_minor": 5
}
